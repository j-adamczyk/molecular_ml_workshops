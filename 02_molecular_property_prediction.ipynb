{
 "cells": [
  {
   "cell_type": "markdown",
   "id": "857f895e4c2ded45",
   "metadata": {
    "collapsed": false
   },
   "source": [
    "# Molecular Fingerprints in Chemoinformatics\n",
    "\n",
    "Now that we know how molecules are stored and how to work with them we can introduce scikit-fingerprints - a library for efficient computation of molecular fingerprints - algorithms for vectorization of molecular graphs."
   ]
  },
  {
   "cell_type": "code",
   "execution_count": 1,
   "id": "2de91fa2dc3b3443",
   "metadata": {
    "collapsed": false,
    "ExecuteTime": {
     "end_time": "2024-10-26T13:28:28.433395400Z",
     "start_time": "2024-10-26T13:28:28.351396500Z"
    }
   },
   "outputs": [],
   "source": [
    "# !pip install scikit-fingerprints numpy scikit-learn"
   ]
  },
  {
   "cell_type": "markdown",
   "id": "ed0ac976b0d1c32b",
   "metadata": {
    "collapsed": false
   },
   "source": [
    "---"
   ]
  },
  {
   "cell_type": "markdown",
   "id": "9923fb4b525f8889",
   "metadata": {
    "collapsed": false
   },
   "source": [
    "# 1. Loading the data\n",
    "\n",
    "We will work on BACE dataset from [moleculenet benchmark](https://moleculenet.org/)\n",
    "\n",
    "The the task of BACE dataset is classifying inhibitors of Beta-Secretase 1 - a protein enzyme playing a significant role in development of Alzheimer’s disease.\n",
    "\n",
    "For more information read: [Govindan Subramanian et al. “Computational Modeling of β-Secretase 1 (BACE-1) Inhibitors Using Ligand Based Approaches” J. Chem. Inf. Model. 2016, 56, 10, 1936–1949](https://pubs.acs.org/doi/10.1021/acs.jcim.6b00290)\n",
    "\n",
    "### dataset loader\n",
    "\n",
    "scikit-fingerprints has its own loaders for several popular datasets."
   ]
  },
  {
   "cell_type": "code",
   "execution_count": 2,
   "id": "a7a730860462b9a3",
   "metadata": {
    "collapsed": false,
    "ExecuteTime": {
     "end_time": "2024-10-26T13:28:29.466033200Z",
     "start_time": "2024-10-26T13:28:28.362396200Z"
    }
   },
   "outputs": [
    {
     "name": "stdout",
     "output_type": "stream",
     "text": [
      "Example molecule : O1CC[C@@H](NC(=O)[C@@H](Cc2cc3cc(ccc3nc2N)-c2ccccc2C)C)CC1(C)C\n",
      "Example class    : 1\n"
     ]
    }
   ],
   "source": [
    "from skfp.datasets.moleculenet import load_bace\n",
    "\n",
    "bace_dataset = load_bace()\n",
    "\n",
    "X_smiles, y = bace_dataset\n",
    "\n",
    "print(f\"Example molecule : {X_smiles[0]}\")\n",
    "print(f\"Example class    : {y[0]}\")"
   ]
  },
  {
   "cell_type": "markdown",
   "source": [
    "---"
   ],
   "metadata": {
    "collapsed": false
   },
   "id": "69398dc550a36fce"
  },
  {
   "cell_type": "markdown",
   "source": [
    "# 2. Preprocessing Molecules\n",
    "\n",
    "### Convert SMILES to molecules\n",
    "\n",
    "As you already know we have to convert the SMILES strings to molecule objects. scikit-fingerprints allows us to do that with help of scikit-learn compatible `MolFromSmiles` class."
   ],
   "metadata": {
    "collapsed": false
   },
   "id": "ad27702a3ef5a42b"
  },
  {
   "cell_type": "code",
   "execution_count": 3,
   "outputs": [
    {
     "name": "stderr",
     "output_type": "stream",
     "text": [
      "<frozen importlib._bootstrap>:241: RuntimeWarning: to-Python converter for class boost::shared_ptr<class RDKit::FilterMatcherBase> already registered; second conversion method ignored.\n"
     ]
    }
   ],
   "source": [
    "from skfp.preprocessing import MolFromSmilesTransformer\n",
    "\n",
    "mol_from_smiles = MolFromSmilesTransformer()\n",
    "\n",
    "X = mol_from_smiles.transform(X_smiles)"
   ],
   "metadata": {
    "collapsed": false,
    "ExecuteTime": {
     "end_time": "2024-10-26T13:28:29.767664Z",
     "start_time": "2024-10-26T13:28:29.465034300Z"
    }
   },
   "id": "a026e271920bafce"
  },
  {
   "cell_type": "markdown",
   "id": "eeedb1d3-0cd7-4d80-862d-09b798a7c76f",
   "metadata": {},
   "source": [
    "### Scaffold Split\n",
    "\n",
    "In molecular property prediction we can NOT use random data split for training and testing datasets.\n",
    "\n",
    "In the real-world problem of drug design, a trained ML model has to perform well on newly designed molecules that often differ significantly from the ones in the training dataset.\n",
    "\n",
    "We can group the molecules by the similarity of their internal structure called scaffold, effectively splitting the data into sets that differ from one another.\n",
    "\n",
    "It's important to note that there are different variants of scaffold split and some benchmarks, such as those provided by Open Graph Benchmark ([OGB](https://ogb.stanford.edu/)), require the user to use a specific, pre-computed train/valid/test index."
   ]
  },
  {
   "cell_type": "code",
   "execution_count": 4,
   "id": "8beacf48077f097c",
   "metadata": {
    "collapsed": false,
    "ExecuteTime": {
     "end_time": "2024-10-26T13:28:30.561978200Z",
     "start_time": "2024-10-26T13:28:29.767664Z"
    }
   },
   "outputs": [],
   "source": [
    "from skfp.model_selection import scaffold_train_test_split\n",
    "import numpy as np\n",
    "\n",
    "# get split indices\n",
    "bace_splits = scaffold_train_test_split(\n",
    "    bace_dataset[0], train_size=0.8, test_size=0.2, return_indices=True\n",
    ")\n",
    "\n",
    "train_idx, test_idx = bace_splits"
   ]
  },
  {
   "cell_type": "code",
   "execution_count": 5,
   "id": "bb02b1c038a0a740",
   "metadata": {
    "collapsed": false,
    "ExecuteTime": {
     "end_time": "2024-10-26T13:28:30.577978600Z",
     "start_time": "2024-10-26T13:28:30.562978700Z"
    }
   },
   "outputs": [],
   "source": [
    "# Split lists of SMILES strings\n",
    "X_train = np.array(X)[train_idx]\n",
    "X_test = np.array(X)[test_idx]\n",
    "\n",
    "# Split labels\n",
    "y_train = y[train_idx]\n",
    "y_test = y[test_idx]"
   ]
  },
  {
   "cell_type": "code",
   "execution_count": 6,
   "id": "7323789f-8349-42e5-84b0-51b0cf4e3a25",
   "metadata": {
    "ExecuteTime": {
     "end_time": "2024-10-26T13:28:30.623985400Z",
     "start_time": "2024-10-26T13:28:30.577978600Z"
    }
   },
   "outputs": [
    {
     "name": "stdout",
     "output_type": "stream",
     "text": [
      "train set size : 1210\n",
      "test set size  : 303\n"
     ]
    }
   ],
   "source": [
    "print(f\"train set size : {X_train.shape[0]}\")\n",
    "print(f\"test set size  : {X_test.shape[0]}\")"
   ]
  },
  {
   "cell_type": "markdown",
   "source": [
    "For the sake of this presentation we can display an exmaple molecule and its scaffold."
   ],
   "metadata": {
    "collapsed": false
   },
   "id": "47f6a3d99a3d88a6"
  },
  {
   "cell_type": "code",
   "execution_count": 7,
   "outputs": [],
   "source": [
    "from rdkit.Chem.Scaffolds import MurckoScaffold\n",
    "from rdkit.Chem import AllChem\n",
    "from rdkit import Chem\n",
    "\n",
    "PATT = Chem.MolFromSmarts(\"[$([D1]=[*])]\")\n",
    "REPL = Chem.MolFromSmarts(\"[*]\")\n",
    "\n",
    "\n",
    "# Function for generating scaffold\n",
    "def get_scaffold(mol):\n",
    "    Chem.RemoveStereochemistry(mol)\n",
    "    scaff = MurckoScaffold.GetScaffoldForMol(mol)\n",
    "    scaff = AllChem.ReplaceSubstructs(scaff, PATT, REPL, replaceAll=True)[0]\n",
    "    scaff = MurckoScaffold.MakeScaffoldGeneric(scaff)\n",
    "    scaff = MurckoScaffold.GetScaffoldForMol(scaff)\n",
    "    return scaff"
   ],
   "metadata": {
    "collapsed": false,
    "ExecuteTime": {
     "end_time": "2024-10-26T13:28:30.636978500Z",
     "start_time": "2024-10-26T13:28:30.593978100Z"
    }
   },
   "id": "abc3a30020d03975"
  },
  {
   "cell_type": "code",
   "execution_count": 8,
   "outputs": [
    {
     "data": {
      "text/plain": "<rdkit.Chem.rdchem.Mol at 0x2145f618d60>",
      "image/png": "[encoded data removed]"
     },
     "execution_count": 8,
     "metadata": {},
     "output_type": "execute_result"
    }
   ],
   "source": [
    "X_train[0]"
   ],
   "metadata": {
    "collapsed": false,
    "ExecuteTime": {
     "end_time": "2024-10-26T13:28:30.637979800Z",
     "start_time": "2024-10-26T13:28:30.614986400Z"
    }
   },
   "id": "511d9323ab7e81a0"
  },
  {
   "cell_type": "code",
   "execution_count": 9,
   "outputs": [
    {
     "data": {
      "text/plain": "<rdkit.Chem.rdchem.Mol at 0x21464a83140>",
      "image/png": "[encoded data removed]"
     },
     "execution_count": 9,
     "metadata": {},
     "output_type": "execute_result"
    }
   ],
   "source": [
    "get_scaffold(X_train[0])"
   ],
   "metadata": {
    "collapsed": false,
    "ExecuteTime": {
     "end_time": "2024-10-26T13:28:30.657978300Z",
     "start_time": "2024-10-26T13:28:30.630979Z"
    }
   },
   "id": "a05d04588835999a"
  },
  {
   "cell_type": "markdown",
   "source": [
    "---"
   ],
   "metadata": {
    "collapsed": false
   },
   "id": "efd67889e490f6d3"
  },
  {
   "cell_type": "markdown",
   "id": "a2a7fba3-7867-4019-928e-052c27e12886",
   "metadata": {},
   "source": [
    "### Standardize\n",
    "\n",
    "Molecular standardizer allows us to perform basic sanitization of the molecule object."
   ]
  },
  {
   "cell_type": "code",
   "execution_count": 10,
   "id": "677c1711bc2942fe",
   "metadata": {
    "collapsed": false,
    "ExecuteTime": {
     "end_time": "2024-10-26T13:28:31.683001900Z",
     "start_time": "2024-10-26T13:28:30.640979Z"
    }
   },
   "outputs": [],
   "source": [
    "from skfp.preprocessing import MolStandardizer\n",
    "\n",
    "standardizer = MolStandardizer()\n",
    "\n",
    "X_train_ = standardizer.transform(X_train)\n",
    "X_test_ = standardizer.transform(X_test)"
   ]
  },
  {
   "cell_type": "markdown",
   "id": "2a1033b402e83f90",
   "metadata": {
    "collapsed": false
   },
   "source": [
    "---"
   ]
  },
  {
   "cell_type": "markdown",
   "id": "e8f02792d5f4d050",
   "metadata": {
    "collapsed": false
   },
   "source": [
    "# 3. Single Output Molecular Property Prediction with 2D Fingerprints\n",
    "\n",
    "To perform a training task on molecules we cannot use the molecule objects as data input.\n",
    "\n",
    "The molecules are permutation-invariant so there's no simple way of writing them as input vectors.\n",
    "\n",
    "Fortunately there algorithms that encode molecules into feature vectors. We call them molecular fingerprints and scikit-fingerprints provides a great way of using them in machine learning pipelines."
   ]
  },
  {
   "cell_type": "markdown",
   "source": [
    "### Extended Connectivity Fingerprint (ECFP)\n",
    "\n",
    "We can encode molecules using ECFP fingerprint."
   ],
   "metadata": {
    "collapsed": false
   },
   "id": "7ce5f88ae3fa92dd"
  },
  {
   "cell_type": "code",
   "execution_count": 11,
   "id": "7cc1b6160c728aac",
   "metadata": {
    "collapsed": false,
    "ExecuteTime": {
     "end_time": "2024-10-26T13:28:33.595289Z",
     "start_time": "2024-10-26T13:28:31.684001900Z"
    }
   },
   "outputs": [],
   "source": [
    "from skfp.fingerprints import ECFPFingerprint\n",
    "\n",
    "# Creat scikit-learn compatible transformer object\n",
    "ecfp_fp = ECFPFingerprint(n_jobs=-1, count=True)\n",
    "\n",
    "# Transform molecules into feature vectors\n",
    "X_train_ecfp = ecfp_fp.transform(X_train)\n",
    "X_test_ecfp = ecfp_fp.transform(X_test)"
   ]
  },
  {
   "cell_type": "markdown",
   "id": "1692eb88-f395-4724-b355-6d3c2df6d3eb",
   "metadata": {},
   "source": [
    "We can check that our molecules have been transformed to vectors."
   ]
  },
  {
   "cell_type": "code",
   "execution_count": 12,
   "id": "145505dc-ae21-4ccc-a141-3d0c654c81ee",
   "metadata": {
    "ExecuteTime": {
     "end_time": "2024-10-26T13:28:33.608289300Z",
     "start_time": "2024-10-26T13:28:33.588222500Z"
    }
   },
   "outputs": [
    {
     "name": "stdout",
     "output_type": "stream",
     "text": [
      "data shape     : (1210, 2048)\n",
      "example vector : [0 1 0 ... 0 0 0]\n"
     ]
    }
   ],
   "source": [
    "print(f\"data shape     : {X_train_ecfp.shape}\")\n",
    "print(f\"example vector : {X_train_ecfp[0]}\")"
   ]
  },
  {
   "cell_type": "markdown",
   "id": "f3ba039e-4fbb-4c13-a643-dfa880bfdd85",
   "metadata": {},
   "source": [
    "### Model training\n",
    "\n",
    "Then we can perform training using standard scikit-learn models such as Random Forest Classifier.\n",
    "\n",
    "We use multioutput_auroc_score metric provided by scikit-fingerprints even thought it's a single output task. This way, in case you want to play around with different datasets at home, you can use the same code."
   ]
  },
  {
   "cell_type": "code",
   "execution_count": 13,
   "id": "5e58ff2582678b2e",
   "metadata": {
    "collapsed": false,
    "ExecuteTime": {
     "end_time": "2024-10-26T13:28:33.777289200Z",
     "start_time": "2024-10-26T13:28:33.603291500Z"
    }
   },
   "outputs": [
    {
     "name": "stdout",
     "output_type": "stream",
     "text": [
      "ECFP AUROC for Random Forest : 78.02%\n"
     ]
    }
   ],
   "source": [
    "from sklearn.ensemble import RandomForestClassifier\n",
    "from skfp.metrics import multioutput_auroc_score\n",
    "\n",
    "# Create random forest classifier object\n",
    "clf = RandomForestClassifier(n_jobs=-1, random_state=0)\n",
    "\n",
    "# Fit the train dataset\n",
    "clf.fit(X_train_ecfp, y_train)\n",
    "\n",
    "# create a prediction\n",
    "y_pred = clf.predict_proba(X_test_ecfp)[:, 1]\n",
    "\n",
    "print(\n",
    "    f\"ECFP AUROC for Random Forest : {100*multioutput_auroc_score(y_test, y_pred):.2f}%\"\n",
    ")"
   ]
  },
  {
   "cell_type": "markdown",
   "id": "6ab5e102-e35b-4fc0-9452-b3a7d1101d8f",
   "metadata": {},
   "source": [
    "### KNN model training\n",
    "\n",
    "We can also different models, such as k-nearest-neighbours.\n",
    "\n",
    "Note that to use nearest neighbours models you will need to use Tanimoto distance.\n",
    "\n",
    "The formula for calculating Tanimoto distance for binary vector is as follows:\n",
    "\n",
    "$$\n",
    "\\text{dist}(\\vec{a}, \\vec{b}) = 1 - \\frac{|\\vec{a} \\cap \\vec{b}|}{|\\vec{a}| + |\\vec{b}| - |\\vec{a} \\cap \\vec{b}|}\n",
    "$$\n",
    "\n",
    "A count variant of the distance for non-binary vectors can be defined too:\n",
    "\n",
    "$$\n",
    "\\text{dist}(\\vec{a}, \\vec{b}) = 1 - \\frac{\\vec{a} \\cdot \\vec{b}}{\\|\\vec{a}\\|^2 + \\|\\vec{b}\\|^2 - \\vec{a} \\cdot \\vec{b}}\n",
    "$$\n",
    "\n",
    "You can find more information about scikit-fingerprints implementation of Tanimoto distance in [scikit-fingerprints documentation](https://scikit-fingerprints.github.io/scikit-fingerprints/)"
   ]
  },
  {
   "cell_type": "code",
   "execution_count": 14,
   "id": "c32519b4-1c04-4196-b2d8-de95b0c2f22b",
   "metadata": {
    "ExecuteTime": {
     "end_time": "2024-10-26T13:28:54.840555Z",
     "start_time": "2024-10-26T13:28:33.779289400Z"
    }
   },
   "outputs": [
    {
     "name": "stdout",
     "output_type": "stream",
     "text": [
      "ECFP AUROC for KNN : 77.04%\n"
     ]
    }
   ],
   "source": [
    "from sklearn.neighbors import KNeighborsClassifier\n",
    "from skfp.distances import tanimoto_count_distance\n",
    "\n",
    "# Our fingerprint used count=True parameter. Because of that we need to use Tanimoto count distance\n",
    "clf = KNeighborsClassifier(n_jobs=-1, metric=tanimoto_count_distance)\n",
    "\n",
    "# fit the model\n",
    "clf.fit(X_train_ecfp, y_train)\n",
    "\n",
    "y_pred = clf.predict_proba(X_test_ecfp)[:, 1]\n",
    "\n",
    "print(f\"ECFP AUROC for KNN : {100*multioutput_auroc_score(y_test, y_pred):.2f}%\")"
   ]
  },
  {
   "cell_type": "markdown",
   "id": "e81102a3aafc1516",
   "metadata": {
    "collapsed": false
   },
   "source": [
    "### MACCS Keys Fingerprint\n",
    "\n",
    "ECFP is not the only fingerprint implemented by scikit-fingerprints. There are over 30 different algorithms. For the sake of this tutorial we want to show you one more fingerprint - MACCS Keys Fingerprint.\n",
    "\n",
    "You can find the information about this fingerprint and how to use it in [scikit-fingerprints documentation](https://scikit-fingerprints.github.io/scikit-fingerprints/) after navigating to the `fingerprints` section."
   ]
  },
  {
   "cell_type": "code",
   "execution_count": 15,
   "id": "5899f92f47c88477",
   "metadata": {
    "collapsed": false,
    "ExecuteTime": {
     "end_time": "2024-10-26T13:28:55.237165900Z",
     "start_time": "2024-10-26T13:28:54.839555500Z"
    }
   },
   "outputs": [],
   "source": [
    "# import MACCS fingerprint\n",
    "from skfp.fingerprints import MACCSFingerprint\n",
    "\n",
    "# Create MACCS transformer object\n",
    "maccs_fp = MACCSFingerprint(n_jobs=-1, count=True)\n",
    "\n",
    "# transform the molecules into vectors\n",
    "X_train_maccs = maccs_fp.transform(X_train)\n",
    "X_test_maccs = maccs_fp.transform(X_test)"
   ]
  },
  {
   "cell_type": "markdown",
   "id": "e21f65ba-caa2-4f0f-80f4-d17f22ba5359",
   "metadata": {},
   "source": [
    "Train random forest model like before."
   ]
  },
  {
   "cell_type": "code",
   "execution_count": 16,
   "id": "db128abd5eb2a020",
   "metadata": {
    "collapsed": false,
    "ExecuteTime": {
     "end_time": "2024-10-26T13:28:55.349166900Z",
     "start_time": "2024-10-26T13:28:55.237165900Z"
    }
   },
   "outputs": [
    {
     "name": "stdout",
     "output_type": "stream",
     "text": [
      "MACCS AUROC for Random Forest : 77.00%\n"
     ]
    }
   ],
   "source": [
    "clf = RandomForestClassifier(n_jobs=-1, random_state=0)\n",
    "\n",
    "clf.fit(X_train_maccs, y_train)\n",
    "\n",
    "y_pred = clf.predict_proba(X_test_maccs)[:, 1]\n",
    "\n",
    "print(\n",
    "    f\"MACCS AUROC for Random Forest : {100*multioutput_auroc_score(y_test, y_pred):.2f}%\"\n",
    ")"
   ]
  },
  {
   "cell_type": "markdown",
   "id": "6b5d4b445ba9da06",
   "metadata": {
    "collapsed": false
   },
   "source": [
    "---"
   ]
  },
  {
   "cell_type": "markdown",
   "id": "d6d20bbc268a2349",
   "metadata": {
    "collapsed": false
   },
   "source": [
    "# 4. Hyperparameter tuning\n",
    "\n",
    "Molecular fingerprints have many hyperparameters that can be tuned. To make that easier, scikit-fingerprints implements functionalities that make that task easy.\n",
    "\n",
    "### Regular scikit-learn based model tuning\n",
    "\n",
    "First we have to prepare a standard scikit-learn parameter grid and cv estimator object."
   ]
  },
  {
   "cell_type": "code",
   "execution_count": 17,
   "id": "233d71c3bdf3e508",
   "metadata": {
    "collapsed": false,
    "ExecuteTime": {
     "end_time": "2024-10-26T13:28:55.379166100Z",
     "start_time": "2024-10-26T13:28:55.351166400Z"
    }
   },
   "outputs": [],
   "source": [
    "from sklearn.model_selection import GridSearchCV\n",
    "from sklearn.metrics import make_scorer\n",
    "\n",
    "# Create Random Forest Classifier\n",
    "clf = RandomForestClassifier(n_jobs=-1, random_state=0)\n",
    "\n",
    "# Create hyperparameter grid for the classifier\n",
    "clf_param_grid = {\"n_estimators\": [200, 500, 1000]}\n",
    "\n",
    "# create scorer - use multioutput auroc score\n",
    "scorer = make_scorer(multioutput_auroc_score, greater_is_better=True)\n",
    "\n",
    "# create grid search object\n",
    "gridsearch_cv = GridSearchCV(\n",
    "    estimator=clf,\n",
    "    param_grid=clf_param_grid,\n",
    "    scoring=scorer,\n",
    "    verbose=2,\n",
    "    cv=5,\n",
    "    n_jobs=-1,\n",
    ")"
   ]
  },
  {
   "cell_type": "markdown",
   "id": "6331d96c-0bef-47d9-8813-b51cc32a9d88",
   "metadata": {},
   "source": [
    "### scikit-fingerprints grid search estimator\n",
    "\n",
    "Then we wrap it in another cv estimator, this time implemented by scikit-fingerprints. \n",
    "\n",
    "It will allow us to avoid unnecessary multiple computation of fingerprint algorithm."
   ]
  },
  {
   "cell_type": "code",
   "execution_count": 18,
   "id": "cde79eeda1e8fb81",
   "metadata": {
    "collapsed": false,
    "ExecuteTime": {
     "end_time": "2024-10-26T13:28:55.391166100Z",
     "start_time": "2024-10-26T13:28:55.367167600Z"
    }
   },
   "outputs": [],
   "source": [
    "from skfp.model_selection import FingerprintEstimatorGridSearch\n",
    "\n",
    "# Create fingerprint transformer object\n",
    "ecfp_fp = ECFPFingerprint(n_jobs=-1)\n",
    "\n",
    "# fingerprint hyperparameter grid\n",
    "fp_grid = {\n",
    "    \"fp_size\": [1024, 2048, 4096],\n",
    "    \"radius\": [2, 3],\n",
    "    \"include_chirality\": [False, True],\n",
    "    \"count\": [False, True],\n",
    "}\n",
    "\n",
    "# Cross-Validation estimator\n",
    "fp_estimator_cv = FingerprintEstimatorGridSearch(\n",
    "    fingerprint=ecfp_fp,\n",
    "    fp_param_grid=fp_grid,\n",
    "    estimator_cv=gridsearch_cv,\n",
    "    greater_is_better=True,\n",
    ")"
   ]
  },
  {
   "cell_type": "markdown",
   "id": "fe02da2b-789a-4651-9c67-65a9a7ac18ad",
   "metadata": {},
   "source": [
    "### Running the training - tuning hyperparameters\n",
    "\n",
    "Fit the data. We don't need to transform it as the fingerprint object is stored inside the cv estimator class."
   ]
  },
  {
   "cell_type": "code",
   "execution_count": 19,
   "id": "48a7ffef6e7908ed",
   "metadata": {
    "collapsed": false,
    "ExecuteTime": {
     "end_time": "2024-10-26T13:30:23.147880900Z",
     "start_time": "2024-10-26T13:28:55.381166900Z"
    }
   },
   "outputs": [
    {
     "name": "stdout",
     "output_type": "stream",
     "text": [
      "Fitting 5 folds for each of 3 candidates, totalling 15 fits\n",
      "Fitting 5 folds for each of 3 candidates, totalling 15 fits\n",
      "Fitting 5 folds for each of 3 candidates, totalling 15 fits\n",
      "Fitting 5 folds for each of 3 candidates, totalling 15 fits\n",
      "Fitting 5 folds for each of 3 candidates, totalling 15 fits\n",
      "Fitting 5 folds for each of 3 candidates, totalling 15 fits\n",
      "Fitting 5 folds for each of 3 candidates, totalling 15 fits\n",
      "Fitting 5 folds for each of 3 candidates, totalling 15 fits\n",
      "Fitting 5 folds for each of 3 candidates, totalling 15 fits\n",
      "Fitting 5 folds for each of 3 candidates, totalling 15 fits\n",
      "Fitting 5 folds for each of 3 candidates, totalling 15 fits\n",
      "Fitting 5 folds for each of 3 candidates, totalling 15 fits\n",
      "Fitting 5 folds for each of 3 candidates, totalling 15 fits\n",
      "Fitting 5 folds for each of 3 candidates, totalling 15 fits\n",
      "Fitting 5 folds for each of 3 candidates, totalling 15 fits\n",
      "Fitting 5 folds for each of 3 candidates, totalling 15 fits\n",
      "Fitting 5 folds for each of 3 candidates, totalling 15 fits\n",
      "Fitting 5 folds for each of 3 candidates, totalling 15 fits\n",
      "Fitting 5 folds for each of 3 candidates, totalling 15 fits\n",
      "Fitting 5 folds for each of 3 candidates, totalling 15 fits\n",
      "Fitting 5 folds for each of 3 candidates, totalling 15 fits\n",
      "Fitting 5 folds for each of 3 candidates, totalling 15 fits\n",
      "Fitting 5 folds for each of 3 candidates, totalling 15 fits\n",
      "Fitting 5 folds for each of 3 candidates, totalling 15 fits\n",
      "tuning time : 87.75s\n"
     ]
    }
   ],
   "source": [
    "from time import time\n",
    "\n",
    "start = time()\n",
    "fp_estimator_cv.fit(X_train, y_train)\n",
    "end = time()\n",
    "print(f\"tuning time : {round(end-start,2)}s\")"
   ]
  },
  {
   "cell_type": "markdown",
   "id": "7832f37a-52f7-49ba-953e-c7d6460dc6d8",
   "metadata": {},
   "source": [
    " "
   ]
  },
  {
   "cell_type": "markdown",
   "id": "c141bc6d-5078-4b31-8329-987b308bcdd3",
   "metadata": {},
   "source": [
    "\n",
    "Display the best fingerprint hyperparameters."
   ]
  },
  {
   "cell_type": "code",
   "execution_count": 20,
   "id": "a7afd708-dc0e-4a08-ac70-5480e0d89f48",
   "metadata": {
    "ExecuteTime": {
     "end_time": "2024-10-26T13:30:23.192879900Z",
     "start_time": "2024-10-26T13:30:23.147880900Z"
    }
   },
   "outputs": [
    {
     "name": "stdout",
     "output_type": "stream",
     "text": [
      "{'count': False, 'fp_size': 2048, 'include_chirality': True, 'radius': 2}\n"
     ]
    }
   ],
   "source": [
    "print(fp_estimator_cv.best_fp_params_)"
   ]
  },
  {
   "cell_type": "markdown",
   "id": "20ed35d5-b893-47c2-bff0-5e756a587392",
   "metadata": {},
   "source": [
    "Display the best model hyperparameters."
   ]
  },
  {
   "cell_type": "code",
   "execution_count": 21,
   "id": "b16fac56-6df0-411d-a089-6804ea3b8b39",
   "metadata": {
    "ExecuteTime": {
     "end_time": "2024-10-26T13:30:23.204879700Z",
     "start_time": "2024-10-26T13:30:23.162880500Z"
    }
   },
   "outputs": [
    {
     "name": "stdout",
     "output_type": "stream",
     "text": [
      "{'n_estimators': 500}\n"
     ]
    }
   ],
   "source": [
    "print(fp_estimator_cv.best_estimator_cv_.best_params_)"
   ]
  },
  {
   "cell_type": "markdown",
   "id": "4bc8f458-0cbe-4faf-9e71-9fd6fc6959c8",
   "metadata": {},
   "source": [
    "Check the score."
   ]
  },
  {
   "cell_type": "code",
   "execution_count": 22,
   "id": "4d3c3a1fe4670abf",
   "metadata": {
    "collapsed": false,
    "ExecuteTime": {
     "end_time": "2024-10-26T13:30:23.287879500Z",
     "start_time": "2024-10-26T13:30:23.178872800Z"
    }
   },
   "outputs": [
    {
     "name": "stdout",
     "output_type": "stream",
     "text": [
      "ECFP AUROC : 78.78%\n"
     ]
    }
   ],
   "source": [
    "y_pred = fp_estimator_cv.predict_proba(X_test)[:, 1]\n",
    "\n",
    "print(f\"ECFP AUROC : {100*multioutput_auroc_score(y_test, y_pred):.2f}%\")"
   ]
  },
  {
   "cell_type": "markdown",
   "id": "dbd240c23b5a8186",
   "metadata": {
    "collapsed": false
   },
   "source": [
    "---"
   ]
  },
  {
   "cell_type": "markdown",
   "id": "34ccd5e0387844c0",
   "metadata": {
    "collapsed": false
   },
   "source": [
    "# 5. Multioutput prediction\n",
    "\n",
    "Some molecular datasets focus on multiple tasks or for different reasons, have multiple label values. Both for regression and classification tasks. scikit-fingerprints eneables the scientists to work easily with this kind of multi-output data.\n",
    "\n"
   ]
  },
  {
   "cell_type": "markdown",
   "source": [
    "### Sider dataset\n",
    "\n",
    "One of such multi-output datasets is SIDER dataset.\n",
    "\n",
    "The task presented by SIDER dataset is to predict adverse drug reactions (ADRs) as drug side effects to 27 system organ classes in [MedDRA classification](https://pubs.acs.org/doi/10.1021/acscentsci.6b00367)"
   ],
   "metadata": {
    "collapsed": false
   },
   "id": "eeae6b7ce2abf924"
  },
  {
   "cell_type": "code",
   "execution_count": 23,
   "id": "7d56b694ce00a126",
   "metadata": {
    "collapsed": false,
    "ExecuteTime": {
     "end_time": "2024-10-26T13:30:23.541176Z",
     "start_time": "2024-10-26T13:30:23.273873100Z"
    }
   },
   "outputs": [
    {
     "name": "stdout",
     "output_type": "stream",
     "text": [
      "Example molecule  : C(CNCCNCCNCCN)N\n",
      "Example class     : [1 1 0 0 1 1 1 0 0 0 0 1 0 0 0 0 1 0 0 1 1 0 0 1 1 1 0]\n",
      "Number of outputs : 27\n"
     ]
    }
   ],
   "source": [
    "from skfp.datasets.moleculenet import load_sider\n",
    "\n",
    "# load SIDER dataset\n",
    "sider_dataset = load_sider()\n",
    "\n",
    "# Extract SMILES strings and labels\n",
    "X_smiles, y = sider_dataset\n",
    "\n",
    "print(f\"Example molecule  : {X_smiles[0]}\")\n",
    "print(f\"Example class     : {y[0]}\")\n",
    "print(f\"Number of outputs : {y[0].shape[0]}\")"
   ]
  },
  {
   "cell_type": "markdown",
   "id": "2fad1fd1-ed52-4392-8af6-7610508ed48a",
   "metadata": {},
   "source": [
    "We can see that there are 27 tasks\n",
    "\n"
   ]
  },
  {
   "cell_type": "markdown",
   "source": [
    "### preprocessing\n",
    "\n",
    "Then we have to perform preprocessing as described before.\n",
    "\n",
    "Convert smiles to molecules."
   ],
   "metadata": {
    "collapsed": false
   },
   "id": "9c331f09c77d5584"
  },
  {
   "cell_type": "code",
   "execution_count": 24,
   "outputs": [
    {
     "name": "stderr",
     "output_type": "stream",
     "text": [
      "[15:30:23] WARNING: not removing hydrogen atom without neighbors\n",
      "[15:30:23] WARNING: not removing hydrogen atom without neighbors\n",
      "[15:30:23] WARNING: not removing hydrogen atom without neighbors\n",
      "[15:30:23] WARNING: not removing hydrogen atom without neighbors\n",
      "[15:30:23] WARNING: not removing hydrogen atom without neighbors\n",
      "[15:30:23] WARNING: not removing hydrogen atom without neighbors\n",
      "[15:30:23] WARNING: not removing hydrogen atom without neighbors\n",
      "[15:30:23] WARNING: not removing hydrogen atom without neighbors\n",
      "[15:30:23] WARNING: not removing hydrogen atom without neighbors\n",
      "[15:30:23] WARNING: not removing hydrogen atom without neighbors\n",
      "[15:30:23] WARNING: not removing hydrogen atom without neighbors\n",
      "[15:30:23] WARNING: not removing hydrogen atom without neighbors\n",
      "[15:30:23] WARNING: not removing hydrogen atom without neighbors\n"
     ]
    }
   ],
   "source": [
    "mol_from_smiles = MolFromSmilesTransformer()\n",
    "\n",
    "X = mol_from_smiles.transform(X_smiles)"
   ],
   "metadata": {
    "collapsed": false,
    "ExecuteTime": {
     "end_time": "2024-10-26T13:30:23.735175700Z",
     "start_time": "2024-10-26T13:30:23.541176Z"
    }
   },
   "id": "bf975f9c0208cc85"
  },
  {
   "cell_type": "markdown",
   "source": [
    "Split the dataset."
   ],
   "metadata": {
    "collapsed": false
   },
   "id": "3aa47080ab724c2e"
  },
  {
   "cell_type": "code",
   "execution_count": 25,
   "id": "1b18ee1c48111fdc",
   "metadata": {
    "collapsed": false,
    "ExecuteTime": {
     "end_time": "2024-10-26T13:30:25.039063900Z",
     "start_time": "2024-10-26T13:30:23.731175700Z"
    }
   },
   "outputs": [
    {
     "name": "stderr",
     "output_type": "stream",
     "text": [
      "[15:30:23] WARNING: not removing hydrogen atom without neighbors\n",
      "[15:30:23] WARNING: not removing hydrogen atom without neighbors\n",
      "[15:30:23] WARNING: not removing hydrogen atom without neighbors\n",
      "[15:30:23] WARNING: not removing hydrogen atom without neighbors\n",
      "[15:30:23] WARNING: not removing hydrogen atom without neighbors\n",
      "[15:30:23] WARNING: not removing hydrogen atom without neighbors\n",
      "[15:30:23] WARNING: not removing hydrogen atom without neighbors\n",
      "[15:30:23] WARNING: not removing hydrogen atom without neighbors\n",
      "[15:30:23] WARNING: not removing hydrogen atom without neighbors\n",
      "[15:30:23] WARNING: not removing hydrogen atom without neighbors\n",
      "[15:30:23] WARNING: not removing hydrogen atom without neighbors\n",
      "[15:30:23] WARNING: not removing hydrogen atom without neighbors\n",
      "[15:30:23] WARNING: not removing hydrogen atom without neighbors\n"
     ]
    }
   ],
   "source": [
    "sider_splits = scaffold_train_test_split(\n",
    "    sider_dataset[0], train_size=0.8, test_size=0.2, return_indices=True\n",
    ")\n",
    "\n",
    "train_idx, test_idx = sider_splits"
   ]
  },
  {
   "cell_type": "code",
   "execution_count": 26,
   "id": "fbe3a95a-920b-4478-b1d5-274a9758f2f1",
   "metadata": {
    "ExecuteTime": {
     "end_time": "2024-10-26T13:30:25.055065400Z",
     "start_time": "2024-10-26T13:30:25.039063900Z"
    }
   },
   "outputs": [],
   "source": [
    "# Split lists of SMILES strings\n",
    "X_train = np.array(X)[train_idx]\n",
    "X_test = np.array(X)[test_idx]\n",
    "\n",
    "# Split labels\n",
    "y_train = y[train_idx]\n",
    "y_test = y[test_idx]"
   ]
  },
  {
   "cell_type": "markdown",
   "id": "0fbf0a20-79dd-4596-b2e2-9f486ab78d3e",
   "metadata": {},
   "source": [
    "Standardize molecules."
   ]
  },
  {
   "cell_type": "code",
   "execution_count": 27,
   "id": "3c7ae5ed8308dfe2",
   "metadata": {
    "collapsed": false,
    "ExecuteTime": {
     "end_time": "2024-10-26T13:30:25.997703600Z",
     "start_time": "2024-10-26T13:30:25.086064800Z"
    }
   },
   "outputs": [],
   "source": [
    "standardizer = MolStandardizer()\n",
    "\n",
    "X_train = standardizer.transform(X_train)\n",
    "X_test = standardizer.transform(X_test)"
   ]
  },
  {
   "cell_type": "markdown",
   "id": "b38f67c6-87a3-4a46-a8a7-92ca16d273d2",
   "metadata": {},
   "source": [
    "### Compute molecular fingerprints"
   ]
  },
  {
   "cell_type": "code",
   "execution_count": 28,
   "id": "414e53616c0524ed",
   "metadata": {
    "collapsed": false,
    "ExecuteTime": {
     "end_time": "2024-10-26T13:30:26.109704400Z",
     "start_time": "2024-10-26T13:30:25.997703600Z"
    }
   },
   "outputs": [],
   "source": [
    "ecfp_fp = ECFPFingerprint(n_jobs=-1, count=True)\n",
    "\n",
    "X_train_ecfp = ecfp_fp.transform(X_train)\n",
    "X_test_ecfp = ecfp_fp.transform(X_test)"
   ]
  },
  {
   "cell_type": "markdown",
   "id": "8e55ba97-32a1-49dd-a99b-e9b7ce292fc4",
   "metadata": {},
   "source": [
    "### Create and train a model"
   ]
  },
  {
   "cell_type": "code",
   "execution_count": 29,
   "id": "52762c83e051736a",
   "metadata": {
    "collapsed": false,
    "ExecuteTime": {
     "end_time": "2024-10-26T13:30:26.458353300Z",
     "start_time": "2024-10-26T13:30:26.109704400Z"
    }
   },
   "outputs": [
    {
     "data": {
      "text/plain": "RandomForestClassifier(n_jobs=-1, random_state=0)",
      "text/html": "<style>#sk-container-id-1 {\n  /* Definition of color scheme common for light and dark mode */\n  --sklearn-color-text: black;\n  --sklearn-color-line: gray;\n  /* Definition of color scheme for unfitted estimators */\n  --sklearn-color-unfitted-level-0: #fff5e6;\n  --sklearn-color-unfitted-level-1: #f6e4d2;\n  --sklearn-color-unfitted-level-2: #ffe0b3;\n  --sklearn-color-unfitted-level-3: chocolate;\n  /* Definition of color scheme for fitted estimators */\n  --sklearn-color-fitted-level-0: #f0f8ff;\n  --sklearn-color-fitted-level-1: #d4ebff;\n  --sklearn-color-fitted-level-2: #b3dbfd;\n  --sklearn-color-fitted-level-3: cornflowerblue;\n\n  /* Specific color for light theme */\n  --sklearn-color-text-on-default-background: var(--sg-text-color, var(--theme-code-foreground, var(--jp-content-font-color1, black)));\n  --sklearn-color-background: var(--sg-background-color, var(--theme-background, var(--jp-layout-color0, white)));\n  --sklearn-color-border-box: var(--sg-text-color, var(--theme-code-foreground, var(--jp-content-font-color1, black)));\n  --sklearn-color-icon: #696969;\n\n  @media (prefers-color-scheme: dark) {\n    /* Redefinition of color scheme for dark theme */\n    --sklearn-color-text-on-default-background: var(--sg-text-color, var(--theme-code-foreground, var(--jp-content-font-color1, white)));\n    --sklearn-color-background: var(--sg-background-color, var(--theme-background, var(--jp-layout-color0, #111)));\n    --sklearn-color-border-box: var(--sg-text-color, var(--theme-code-foreground, var(--jp-content-font-color1, white)));\n    --sklearn-color-icon: #878787;\n  }\n}\n\n#sk-container-id-1 {\n  color: var(--sklearn-color-text);\n}\n\n#sk-container-id-1 pre {\n  padding: 0;\n}\n\n#sk-container-id-1 input.sk-hidden--visually {\n  border: 0;\n  clip: rect(1px 1px 1px 1px);\n  clip: rect(1px, 1px, 1px, 1px);\n  height: 1px;\n  margin: -1px;\n  overflow: hidden;\n  padding: 0;\n  position: absolute;\n  width: 1px;\n}\n\n#sk-container-id-1 div.sk-dashed-wrapped {\n  border: 1px dashed var(--sklearn-color-line);\n  margin: 0 0.4em 0.5em 0.4em;\n  box-sizing: border-box;\n  padding-bottom: 0.4em;\n  background-color: var(--sklearn-color-background);\n}\n\n#sk-container-id-1 div.sk-container {\n  /* jupyter's `normalize.less` sets `[hidden] { display: none; }`\n     but bootstrap.min.css set `[hidden] { display: none !important; }`\n     so we also need the `!important` here to be able to override the\n     default hidden behavior on the sphinx rendered scikit-learn.org.\n     See: https://github.com/scikit-learn/scikit-learn/issues/21755 */\n  display: inline-block !important;\n  position: relative;\n}\n\n#sk-container-id-1 div.sk-text-repr-fallback {\n  display: none;\n}\n\ndiv.sk-parallel-item,\ndiv.sk-serial,\ndiv.sk-item {\n  /* draw centered vertical line to link estimators */\n  background-image: linear-gradient(var(--sklearn-color-text-on-default-background), var(--sklearn-color-text-on-default-background));\n  background-size: 2px 100%;\n  background-repeat: no-repeat;\n  background-position: center center;\n}\n\n/* Parallel-specific style estimator block */\n\n#sk-container-id-1 div.sk-parallel-item::after {\n  content: \"\";\n  width: 100%;\n  border-bottom: 2px solid var(--sklearn-color-text-on-default-background);\n  flex-grow: 1;\n}\n\n#sk-container-id-1 div.sk-parallel {\n  display: flex;\n  align-items: stretch;\n  justify-content: center;\n  background-color: var(--sklearn-color-background);\n  position: relative;\n}\n\n#sk-container-id-1 div.sk-parallel-item {\n  display: flex;\n  flex-direction: column;\n}\n\n#sk-container-id-1 div.sk-parallel-item:first-child::after {\n  align-self: flex-end;\n  width: 50%;\n}\n\n#sk-container-id-1 div.sk-parallel-item:last-child::after {\n  align-self: flex-start;\n  width: 50%;\n}\n\n#sk-container-id-1 div.sk-parallel-item:only-child::after {\n  width: 0;\n}\n\n/* Serial-specific style estimator block */\n\n#sk-container-id-1 div.sk-serial {\n  display: flex;\n  flex-direction: column;\n  align-items: center;\n  background-color: var(--sklearn-color-background);\n  padding-right: 1em;\n  padding-left: 1em;\n}\n\n\n/* Toggleable style: style used for estimator/Pipeline/ColumnTransformer box that is\nclickable and can be expanded/collapsed.\n- Pipeline and ColumnTransformer use this feature and define the default style\n- Estimators will overwrite some part of the style using the `sk-estimator` class\n*/\n\n/* Pipeline and ColumnTransformer style (default) */\n\n#sk-container-id-1 div.sk-toggleable {\n  /* Default theme specific background. It is overwritten whether we have a\n  specific estimator or a Pipeline/ColumnTransformer */\n  background-color: var(--sklearn-color-background);\n}\n\n/* Toggleable label */\n#sk-container-id-1 label.sk-toggleable__label {\n  cursor: pointer;\n  display: block;\n  width: 100%;\n  margin-bottom: 0;\n  padding: 0.5em;\n  box-sizing: border-box;\n  text-align: center;\n}\n\n#sk-container-id-1 label.sk-toggleable__label-arrow:before {\n  /* Arrow on the left of the label */\n  content: \"▸\";\n  float: left;\n  margin-right: 0.25em;\n  color: var(--sklearn-color-icon);\n}\n\n#sk-container-id-1 label.sk-toggleable__label-arrow:hover:before {\n  color: var(--sklearn-color-text);\n}\n\n/* Toggleable content - dropdown */\n\n#sk-container-id-1 div.sk-toggleable__content {\n  max-height: 0;\n  max-width: 0;\n  overflow: hidden;\n  text-align: left;\n  /* unfitted */\n  background-color: var(--sklearn-color-unfitted-level-0);\n}\n\n#sk-container-id-1 div.sk-toggleable__content.fitted {\n  /* fitted */\n  background-color: var(--sklearn-color-fitted-level-0);\n}\n\n#sk-container-id-1 div.sk-toggleable__content pre {\n  margin: 0.2em;\n  border-radius: 0.25em;\n  color: var(--sklearn-color-text);\n  /* unfitted */\n  background-color: var(--sklearn-color-unfitted-level-0);\n}\n\n#sk-container-id-1 div.sk-toggleable__content.fitted pre {\n  /* unfitted */\n  background-color: var(--sklearn-color-fitted-level-0);\n}\n\n#sk-container-id-1 input.sk-toggleable__control:checked~div.sk-toggleable__content {\n  /* Expand drop-down */\n  max-height: 200px;\n  max-width: 100%;\n  overflow: auto;\n}\n\n#sk-container-id-1 input.sk-toggleable__control:checked~label.sk-toggleable__label-arrow:before {\n  content: \"▾\";\n}\n\n/* Pipeline/ColumnTransformer-specific style */\n\n#sk-container-id-1 div.sk-label input.sk-toggleable__control:checked~label.sk-toggleable__label {\n  color: var(--sklearn-color-text);\n  background-color: var(--sklearn-color-unfitted-level-2);\n}\n\n#sk-container-id-1 div.sk-label.fitted input.sk-toggleable__control:checked~label.sk-toggleable__label {\n  background-color: var(--sklearn-color-fitted-level-2);\n}\n\n/* Estimator-specific style */\n\n/* Colorize estimator box */\n#sk-container-id-1 div.sk-estimator input.sk-toggleable__control:checked~label.sk-toggleable__label {\n  /* unfitted */\n  background-color: var(--sklearn-color-unfitted-level-2);\n}\n\n#sk-container-id-1 div.sk-estimator.fitted input.sk-toggleable__control:checked~label.sk-toggleable__label {\n  /* fitted */\n  background-color: var(--sklearn-color-fitted-level-2);\n}\n\n#sk-container-id-1 div.sk-label label.sk-toggleable__label,\n#sk-container-id-1 div.sk-label label {\n  /* The background is the default theme color */\n  color: var(--sklearn-color-text-on-default-background);\n}\n\n/* On hover, darken the color of the background */\n#sk-container-id-1 div.sk-label:hover label.sk-toggleable__label {\n  color: var(--sklearn-color-text);\n  background-color: var(--sklearn-color-unfitted-level-2);\n}\n\n/* Label box, darken color on hover, fitted */\n#sk-container-id-1 div.sk-label.fitted:hover label.sk-toggleable__label.fitted {\n  color: var(--sklearn-color-text);\n  background-color: var(--sklearn-color-fitted-level-2);\n}\n\n/* Estimator label */\n\n#sk-container-id-1 div.sk-label label {\n  font-family: monospace;\n  font-weight: bold;\n  display: inline-block;\n  line-height: 1.2em;\n}\n\n#sk-container-id-1 div.sk-label-container {\n  text-align: center;\n}\n\n/* Estimator-specific */\n#sk-container-id-1 div.sk-estimator {\n  font-family: monospace;\n  border: 1px dotted var(--sklearn-color-border-box);\n  border-radius: 0.25em;\n  box-sizing: border-box;\n  margin-bottom: 0.5em;\n  /* unfitted */\n  background-color: var(--sklearn-color-unfitted-level-0);\n}\n\n#sk-container-id-1 div.sk-estimator.fitted {\n  /* fitted */\n  background-color: var(--sklearn-color-fitted-level-0);\n}\n\n/* on hover */\n#sk-container-id-1 div.sk-estimator:hover {\n  /* unfitted */\n  background-color: var(--sklearn-color-unfitted-level-2);\n}\n\n#sk-container-id-1 div.sk-estimator.fitted:hover {\n  /* fitted */\n  background-color: var(--sklearn-color-fitted-level-2);\n}\n\n/* Specification for estimator info (e.g. \"i\" and \"?\") */\n\n/* Common style for \"i\" and \"?\" */\n\n.sk-estimator-doc-link,\na:link.sk-estimator-doc-link,\na:visited.sk-estimator-doc-link {\n  float: right;\n  font-size: smaller;\n  line-height: 1em;\n  font-family: monospace;\n  background-color: var(--sklearn-color-background);\n  border-radius: 1em;\n  height: 1em;\n  width: 1em;\n  text-decoration: none !important;\n  margin-left: 1ex;\n  /* unfitted */\n  border: var(--sklearn-color-unfitted-level-1) 1pt solid;\n  color: var(--sklearn-color-unfitted-level-1);\n}\n\n.sk-estimator-doc-link.fitted,\na:link.sk-estimator-doc-link.fitted,\na:visited.sk-estimator-doc-link.fitted {\n  /* fitted */\n  border: var(--sklearn-color-fitted-level-1) 1pt solid;\n  color: var(--sklearn-color-fitted-level-1);\n}\n\n/* On hover */\ndiv.sk-estimator:hover .sk-estimator-doc-link:hover,\n.sk-estimator-doc-link:hover,\ndiv.sk-label-container:hover .sk-estimator-doc-link:hover,\n.sk-estimator-doc-link:hover {\n  /* unfitted */\n  background-color: var(--sklearn-color-unfitted-level-3);\n  color: var(--sklearn-color-background);\n  text-decoration: none;\n}\n\ndiv.sk-estimator.fitted:hover .sk-estimator-doc-link.fitted:hover,\n.sk-estimator-doc-link.fitted:hover,\ndiv.sk-label-container:hover .sk-estimator-doc-link.fitted:hover,\n.sk-estimator-doc-link.fitted:hover {\n  /* fitted */\n  background-color: var(--sklearn-color-fitted-level-3);\n  color: var(--sklearn-color-background);\n  text-decoration: none;\n}\n\n/* Span, style for the box shown on hovering the info icon */\n.sk-estimator-doc-link span {\n  display: none;\n  z-index: 9999;\n  position: relative;\n  font-weight: normal;\n  right: .2ex;\n  padding: .5ex;\n  margin: .5ex;\n  width: min-content;\n  min-width: 20ex;\n  max-width: 50ex;\n  color: var(--sklearn-color-text);\n  box-shadow: 2pt 2pt 4pt #999;\n  /* unfitted */\n  background: var(--sklearn-color-unfitted-level-0);\n  border: .5pt solid var(--sklearn-color-unfitted-level-3);\n}\n\n.sk-estimator-doc-link.fitted span {\n  /* fitted */\n  background: var(--sklearn-color-fitted-level-0);\n  border: var(--sklearn-color-fitted-level-3);\n}\n\n.sk-estimator-doc-link:hover span {\n  display: block;\n}\n\n/* \"?\"-specific style due to the `<a>` HTML tag */\n\n#sk-container-id-1 a.estimator_doc_link {\n  float: right;\n  font-size: 1rem;\n  line-height: 1em;\n  font-family: monospace;\n  background-color: var(--sklearn-color-background);\n  border-radius: 1rem;\n  height: 1rem;\n  width: 1rem;\n  text-decoration: none;\n  /* unfitted */\n  color: var(--sklearn-color-unfitted-level-1);\n  border: var(--sklearn-color-unfitted-level-1) 1pt solid;\n}\n\n#sk-container-id-1 a.estimator_doc_link.fitted {\n  /* fitted */\n  border: var(--sklearn-color-fitted-level-1) 1pt solid;\n  color: var(--sklearn-color-fitted-level-1);\n}\n\n/* On hover */\n#sk-container-id-1 a.estimator_doc_link:hover {\n  /* unfitted */\n  background-color: var(--sklearn-color-unfitted-level-3);\n  color: var(--sklearn-color-background);\n  text-decoration: none;\n}\n\n#sk-container-id-1 a.estimator_doc_link.fitted:hover {\n  /* fitted */\n  background-color: var(--sklearn-color-fitted-level-3);\n}\n</style><div id=\"sk-container-id-1\" class=\"sk-top-container\"><div class=\"sk-text-repr-fallback\"><pre>RandomForestClassifier(n_jobs=-1, random_state=0)</pre><b>In a Jupyter environment, please rerun this cell to show the HTML representation or trust the notebook. <br />On GitHub, the HTML representation is unable to render, please try loading this page with nbviewer.org.</b></div><div class=\"sk-container\" hidden><div class=\"sk-item\"><div class=\"sk-estimator fitted sk-toggleable\"><input class=\"sk-toggleable__control sk-hidden--visually\" id=\"sk-estimator-id-1\" type=\"checkbox\" checked><label for=\"sk-estimator-id-1\" class=\"sk-toggleable__label fitted sk-toggleable__label-arrow fitted\">&nbsp;&nbsp;RandomForestClassifier<a class=\"sk-estimator-doc-link fitted\" rel=\"noreferrer\" target=\"_blank\" href=\"https://scikit-learn.org/1.5/modules/generated/sklearn.ensemble.RandomForestClassifier.html\">?<span>Documentation for RandomForestClassifier</span></a><span class=\"sk-estimator-doc-link fitted\">i<span>Fitted</span></span></label><div class=\"sk-toggleable__content fitted\"><pre>RandomForestClassifier(n_jobs=-1, random_state=0)</pre></div> </div></div></div></div>"
     },
     "execution_count": 29,
     "metadata": {},
     "output_type": "execute_result"
    }
   ],
   "source": [
    "rf_classifier = RandomForestClassifier(n_jobs=-1, random_state=0)\n",
    "\n",
    "rf_classifier.fit(X_train_ecfp, y_train)"
   ]
  },
  {
   "cell_type": "markdown",
   "id": "b88a9571-7355-4e8c-89cc-0705548723f9",
   "metadata": {},
   "source": [
    "Assert the model performance using mutioutput AUROC score."
   ]
  },
  {
   "cell_type": "code",
   "execution_count": 30,
   "id": "1dc7ea22d67dfbe6",
   "metadata": {
    "collapsed": false,
    "ExecuteTime": {
     "end_time": "2024-10-26T13:30:26.530354Z",
     "start_time": "2024-10-26T13:30:26.457346500Z"
    }
   },
   "outputs": [
    {
     "name": "stdout",
     "output_type": "stream",
     "text": [
      "Multioutput AUROC : 63.55%\n"
     ]
    }
   ],
   "source": [
    "from skfp.metrics import extract_multioutput_pos_proba\n",
    "\n",
    "y_pred = extract_multioutput_pos_proba(rf_classifier.predict_proba(X_test_ecfp))\n",
    "\n",
    "print(f\"Multioutput AUROC : {100*multioutput_auroc_score(y_test, y_pred):.2f}%\")"
   ]
  },
  {
   "cell_type": "markdown",
   "id": "191055f1ea62bdcc",
   "metadata": {
    "collapsed": false
   },
   "source": [
    "---"
   ]
  },
  {
   "cell_type": "markdown",
   "id": "e80df4d56347bd01",
   "metadata": {
    "collapsed": false
   },
   "source": [
    "# 6. Pipeline, and comparison with graph neural networks"
   ]
  },
  {
   "cell_type": "code",
   "execution_count": 31,
   "id": "9396ab10-6517-47bc-96b1-f645dc8196fa",
   "metadata": {
    "ExecuteTime": {
     "end_time": "2024-10-26T13:30:27.188092100Z",
     "start_time": "2024-10-26T13:30:26.524347100Z"
    }
   },
   "outputs": [],
   "source": [
    "from skfp.datasets.moleculenet import load_bace\n",
    "from skfp.model_selection import scaffold_train_valid_test_split\n",
    "\n",
    "load_bace = load_bace()\n",
    "\n",
    "X_smiles, y = load_bace\n",
    "\n",
    "# We want to compare our model to a reference trained on dataset split into a train/valid/test set\n",
    "bace_splits = scaffold_train_valid_test_split(\n",
    "    bace_dataset[0], train_size=0.8, valid_size=0.1, test_size=0.1, return_indices=True\n",
    ")\n",
    "\n",
    "train_idx, valid_idx, test_idx = bace_splits\n",
    "\n",
    "X_smiles_train = np.array(X_smiles)[train_idx]\n",
    "X_smiles_test = np.array(X_smiles)[test_idx]\n",
    "\n",
    "y_train = y[train_idx]\n",
    "y_test = y[test_idx]"
   ]
  },
  {
   "cell_type": "code",
   "execution_count": 32,
   "outputs": [
    {
     "name": "stdout",
     "output_type": "stream",
     "text": [
      "Feature union AUROC for Random Forest: 88.50%\n"
     ]
    }
   ],
   "source": [
    "from sklearn.preprocessing import MinMaxScaler\n",
    "from skfp.fingerprints import TopologicalTorsionFingerprint\n",
    "from sklearn.pipeline import Pipeline, FeatureUnion\n",
    "\n",
    "ttfp = TopologicalTorsionFingerprint(\n",
    "    torsion_atom_count=6,\n",
    "    n_jobs=-1,\n",
    "    count=True,\n",
    "    fp_size=4096,\n",
    ")\n",
    "\n",
    "ecfp = ECFPFingerprint(\n",
    "    radius=2,\n",
    "    n_jobs=-1,\n",
    "    count=True,\n",
    "    fp_size=4096,\n",
    ")\n",
    "\n",
    "fingerprint_union = FeatureUnion([(\"topological_torsion\", ttfp), (\"ecfp\", ecfp)])\n",
    "\n",
    "random_forest = RandomForestClassifier(\n",
    "    n_jobs=-1, random_state=0, class_weight=\"balanced\"\n",
    ")\n",
    "\n",
    "\n",
    "clf = Pipeline(\n",
    "    [\n",
    "        (\"mol_from_smiles\", MolFromSmilesTransformer()),\n",
    "        (\"mol_sandardizer\", MolStandardizer()),\n",
    "        (\"fp_union\", fingerprint_union),\n",
    "        (\"scaler\", MinMaxScaler()),\n",
    "        (\"random_forest\", random_forest),\n",
    "    ]\n",
    ")\n",
    "\n",
    "clf.fit(X_smiles_train, y_train)\n",
    "\n",
    "y_pred = clf.predict_proba(X_smiles_test)[:, 1]\n",
    "auroc = multioutput_auroc_score(y_test, y_pred)\n",
    "\n",
    "print(f\"Feature union AUROC for Random Forest: {100*auroc:.2f}%\")"
   ],
   "metadata": {
    "collapsed": false,
    "ExecuteTime": {
     "end_time": "2024-10-26T13:30:28.767117700Z",
     "start_time": "2024-10-26T13:30:27.190093100Z"
    }
   },
   "id": "f44c27ebd63b6201"
  },
  {
   "cell_type": "markdown",
   "source": [
    "In a paper called [Strategies for Pre-training Graph Neural Networks](https://arxiv.org/abs/1905.12265) the best AUROC score for BACE dataset was 84.5%. We managed to outperform a comlpex pretrained GNN using molecular fingerprint algorithms without need of long and heavy training.\n",
    "\n",
    "Additionally we've made an improvement in comparison to our first training with ECFP fingerprint with Random Forest model that achieved 78.02% AUROC.\n"
   ],
   "metadata": {
    "collapsed": false
   },
   "id": "9352c7bdaf124c82"
  },
  {
   "cell_type": "code",
   "execution_count": 32,
   "outputs": [],
   "source": [],
   "metadata": {
    "collapsed": false,
    "ExecuteTime": {
     "end_time": "2024-10-26T13:30:28.813123200Z",
     "start_time": "2024-10-26T13:30:28.767117700Z"
    }
   },
   "id": "dea23bb744d2ceba"
  }
 ],
 "metadata": {
  "kernelspec": {
   "display_name": "Python 3 (ipykernel)",
   "language": "python",
   "name": "python3"
  },
  "language_info": {
   "codemirror_mode": {
    "name": "ipython",
    "version": 3
   },
   "file_extension": ".py",
   "mimetype": "text/x-python",
   "name": "python",
   "nbconvert_exporter": "python",
   "pygments_lexer": "ipython3",
   "version": "3.10.0"
  }
 },
 "nbformat": 4,
 "nbformat_minor": 5
}
